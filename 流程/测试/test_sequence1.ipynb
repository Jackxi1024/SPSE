{
 "cells": [
  {
   "cell_type": "markdown",
   "metadata": {},
   "source": [
    "测试序贯求解算法\n",
    "\n",
    "案例1\n",
    "\n",
    "![image](https://github.com/Jackxi1024/SPSE/blob/master/flowsheet/test/image/graph1.png)"
   ]
  },
  {
   "cell_type": "code",
   "execution_count": 1,
   "metadata": {},
   "outputs": [
    {
     "name": "stdout",
     "output_type": "stream",
     "text": [
      "回路为:  [[0, 3, 4, 5]]\n",
      "分割前求解顺序:  [[0, 3, 4, 5], 1, 2]\n",
      "撕裂物流:  [[[0, 3]]]\n",
      "分割后求解顺序:  [[3, 4, 5, 0], 1, 2]\n"
     ]
    }
   ],
   "source": [
    "from polymer_model.flowsheet.sequence import *\n",
    "\n",
    "blocks = [0, 1, 2, 3, 4, 5]\n",
    "matrix = [[0, 1, 0, 1, 0, 0],\n",
    "        [0, 0, 1, 0, 0, 0],\n",
    "        [0, 0, 0, 0, 0, 0],\n",
    "        [0, 0, 0, 0, 1, 0],\n",
    "        [0, 0, 0, 0, 0, 1],\n",
    "        [1, 0, 0, 0, 0, 0]]\n",
    "print(\"回路为: \", find_cycles_blocks(blocks, matrix))\n",
    "print(\"分割前求解顺序: \", block_sequence(blocks, matrix))\n",
    "print(\"撕裂物流: \", calculate_sequence(blocks, matrix)[1])\n",
    "print(\"分割后求解顺序: \", calculate_sequence(blocks, matrix)[0])"
   ]
  },
  {
   "cell_type": "markdown",
   "metadata": {},
   "source": [
    "案例2: 《化工过程模拟——理论与实践》(邱彤 主编) 第10-11页\n",
    "\n",
    "![avatar](image/graph3.jpg)"
   ]
  },
  {
   "cell_type": "code",
   "execution_count": 2,
   "metadata": {},
   "outputs": [
    {
     "name": "stdout",
     "output_type": "stream",
     "text": [
      "回路为:  [[1, 2, 3], [2, 3, 4], [3, 4, 5], [6, 7], [3, 5]]\n",
      "分割前求解顺序:  [9, [4, 5, 1, 2, 3], [6, 7], 8]\n",
      "撕裂物流:  [[[5, 3], [2, 3]], [[6, 7]]]\n",
      "分割后求解顺序:  [9, [3, 4, 1, 2, 5], [7, 6], 8]\n"
     ]
    }
   ],
   "source": [
    "blocks = list(range(1,10))\n",
    "matrix = [\n",
    "        [0, 1, 0, 0, 0, 0, 0, 0, 0],\n",
    "        [0, 0, 1, 0, 0, 0, 0, 0, 0],\n",
    "        [1, 0, 0, 1, 1, 0, 0, 0, 0],\n",
    "        [0, 1, 0, 0, 1, 0, 0, 0, 0],\n",
    "        [0, 0, 1, 0, 0, 1, 0, 0, 0],\n",
    "        [0, 0, 0, 0, 0, 0, 1, 0, 0],\n",
    "        [0, 0, 0, 0, 0, 1, 0, 1, 0],\n",
    "        [0, 0, 0, 0, 0, 0, 0, 0, 0],\n",
    "        [0, 1, 0, 0, 0, 0, 0, 0, 0]]\n",
    "print(\"回路为: \", find_cycles_blocks(blocks, matrix))\n",
    "print(\"分割前求解顺序: \", block_sequence(blocks, matrix))\n",
    "print(\"撕裂物流: \", calculate_sequence(blocks, matrix)[1]) \n",
    "print(\"分割后求解顺序: \", calculate_sequence(blocks, matrix)[0])"
   ]
  },
  {
   "cell_type": "markdown",
   "metadata": {},
   "source": [
    "案例3: 《化工过程模拟——理论与实践》(邱彤 主编) 第8-9页\n",
    "\n",
    "![avatar](image/graph4.jpg)"
   ]
  },
  {
   "cell_type": "code",
   "execution_count": 3,
   "metadata": {},
   "outputs": [
    {
     "name": "stdout",
     "output_type": "stream",
     "text": [
      "回路为:  [[2, 3], [5, 6, 7], [6, 7, 8]]\n",
      "分割前求解顺序:  [1, [2, 3], 4, [8, 5, 6, 7], 9]\n",
      "撕裂物流:  [[[2, 3]], [[6, 7]]]\n",
      "分割后求解顺序:  [1, [3, 2], 4, [7, 8, 5, 6], 9]\n"
     ]
    }
   ],
   "source": [
    "blocks = list(range(1,10))\n",
    "matrix = [\n",
    "        [0, 1, 0, 0, 0, 0, 0, 0, 0],\n",
    "        [0, 0, 1, 0, 0, 0, 0, 0, 0],\n",
    "        [0, 1, 0, 1, 0, 0, 0, 0, 0],\n",
    "        [0, 0, 0, 0, 1, 0, 0, 0, 0],\n",
    "        [0, 0, 0, 0, 0, 1, 0, 0, 0],\n",
    "        [0, 0, 0, 0, 0, 0, 1, 0, 0],\n",
    "        [0, 0, 0, 0, 1, 0, 0, 1, 0],\n",
    "        [0, 0, 0, 0, 0, 1, 0, 0, 1],\n",
    "        [0, 0, 0, 0, 0, 0, 0, 0, 0]]\n",
    "print(\"回路为: \", find_cycles_blocks(blocks, matrix))\n",
    "print(\"分割前求解顺序: \", block_sequence(blocks, matrix))\n",
    "print(\"撕裂物流: \", calculate_sequence(blocks, matrix)[1]) \n",
    "print(\"分割后求解顺序: \", calculate_sequence(blocks, matrix)[0])"
   ]
  },
  {
   "cell_type": "markdown",
   "metadata": {},
   "source": [
    "案例4: 《化工过程模拟——理论与实践》(邱彤 主编) 第11-12页\n",
    "\n",
    "![avatar](image/graph5.jpg)"
   ]
  },
  {
   "cell_type": "code",
   "execution_count": 4,
   "metadata": {},
   "outputs": [
    {
     "name": "stdout",
     "output_type": "stream",
     "text": [
      "回路为:  [[2, 3, 7, 6]]\n",
      "分割前求解顺序:  [1, 5, [2, 3, 7, 6], 4]\n",
      "撕裂物流:  [[[2, 3]]]\n",
      "分割后求解顺序:  [1, 5, [3, 7, 6, 2], 4]\n"
     ]
    }
   ],
   "source": [
    "blocks = list(range(1,8))\n",
    "matrix = [\n",
    "        [0, 1, 0, 0, 0, 0, 0],\n",
    "        [0, 0, 1, 0, 0, 0, 0],\n",
    "        [0, 0, 0, 1, 0, 0, 1],\n",
    "        [0, 0, 0, 0, 0, 0, 0],\n",
    "        [0, 0, 0, 0, 0, 1, 0],\n",
    "        [0, 1, 0, 0, 0, 0, 0],\n",
    "        [0, 0, 0, 0, 0, 1, 0]]\n",
    "print(\"回路为: \", find_cycles_blocks(blocks, matrix))\n",
    "print(\"分割前求解顺序: \", block_sequence(blocks, matrix))\n",
    "print(\"撕裂物流: \", calculate_sequence(blocks, matrix)[1]) \n",
    "print(\"分割后求解顺序: \", calculate_sequence(blocks, matrix)[0])"
   ]
  },
  {
   "cell_type": "markdown",
   "metadata": {},
   "source": [
    "其他案例\n",
    "\n",
    "![avatar](image/graph2.gif)"
   ]
  },
  {
   "cell_type": "code",
   "execution_count": 5,
   "metadata": {},
   "outputs": [
    {
     "name": "stdout",
     "output_type": "stream",
     "text": [
      "回路为:  [[4, 2, 5], [0, 1, 3, 4, 2, 5, 6], [2, 5, 6], [2, 5, 6, 0]]\n"
     ]
    }
   ],
   "source": [
    "matrix = [[0,1,1,0,0,0,0],  \n",
    "        [0,0,0,1,0,0,0],  \n",
    "        [0,0,0,0,0,1,0],  \n",
    "        [0,0,0,0,1,0,0],  \n",
    "        [0,0,1,0,0,0,0],  \n",
    "        [0,0,0,0,1,0,1],  \n",
    "        [1,0,1,0,0,0,0]]\n",
    "print(\"回路为: \", find_cycles(matrix))"
   ]
  }
 ],
 "metadata": {
  "interpreter": {
   "hash": "a8f61be024eba58adef938c9aa1e29e02cb3dece83a5348b1a2dafd16a070453"
  },
  "kernelspec": {
   "display_name": "Python 3.7.1 ('base')",
   "language": "python",
   "name": "python3"
  },
  "language_info": {
   "codemirror_mode": {
    "name": "ipython",
    "version": 3
   },
   "file_extension": ".py",
   "mimetype": "text/x-python",
   "name": "python",
   "nbconvert_exporter": "python",
   "pygments_lexer": "ipython3",
   "version": "3.7.1"
  },
  "orig_nbformat": 4
 },
 "nbformat": 4,
 "nbformat_minor": 2
}
